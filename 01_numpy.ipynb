{
 "cells": [
  {
   "cell_type": "markdown",
   "id": "1a3686a3",
   "metadata": {},
   "source": [
    "# Numpy"
   ]
  },
  {
   "cell_type": "code",
   "execution_count": 183,
   "id": "42084e96",
   "metadata": {},
   "outputs": [],
   "source": [
    "import numpy as np  # import numpy"
   ]
  },
  {
   "cell_type": "markdown",
   "id": "d3db23c9",
   "metadata": {},
   "source": [
    "# Creating Arrays (Using `array()` function)\n",
    "\n",
    "We can create 0-Dimensional (a single value), 1-Dimensional, 2-Dimensional, 3-Dimensional, ..., multi-dimensional arrays in numpy!"
   ]
  },
  {
   "cell_type": "code",
   "execution_count": 184,
   "id": "04d64277",
   "metadata": {},
   "outputs": [
    {
     "name": "stdout",
     "output_type": "stream",
     "text": [
      "25\n"
     ]
    }
   ],
   "source": [
    "a = np.array(25)  # Create 0-D array with value 25\n",
    "print(a)"
   ]
  },
  {
   "cell_type": "code",
   "execution_count": 185,
   "id": "36213dd5",
   "metadata": {},
   "outputs": [
    {
     "name": "stdout",
     "output_type": "stream",
     "text": [
      "[25 24 23]\n"
     ]
    }
   ],
   "source": [
    "a = np.array([25, 24, 23])  # Create 1-D array with values 25, 24, 23\n",
    "print(a)"
   ]
  },
  {
   "cell_type": "code",
   "execution_count": 186,
   "id": "f1b61761",
   "metadata": {},
   "outputs": [
    {
     "name": "stdout",
     "output_type": "stream",
     "text": [
      "[[1 2 3]\n",
      " [4 5 6]]\n"
     ]
    }
   ],
   "source": [
    "# Create 2-D array\n",
    "a = np.array([\n",
    "    [1, 2, 3],\n",
    "    [4, 5, 6]\n",
    "])\n",
    "print(a)"
   ]
  },
  {
   "cell_type": "code",
   "execution_count": 187,
   "id": "476e0905",
   "metadata": {
    "scrolled": true
   },
   "outputs": [
    {
     "data": {
      "text/plain": [
       "3"
      ]
     },
     "execution_count": 187,
     "metadata": {},
     "output_type": "execute_result"
    }
   ],
   "source": [
    "a[0][2]"
   ]
  },
  {
   "cell_type": "code",
   "execution_count": 213,
   "id": "f70f3c09",
   "metadata": {},
   "outputs": [
    {
     "name": "stdout",
     "output_type": "stream",
     "text": [
      "[[[ 1  2  3]\n",
      "  [ 4  5  6]]\n",
      "\n",
      " [[25 30 35]\n",
      "  [60 70 80]]]\n"
     ]
    },
    {
     "data": {
      "text/plain": [
       "30"
      ]
     },
     "execution_count": 213,
     "metadata": {},
     "output_type": "execute_result"
    }
   ],
   "source": [
    "# Create 3-D array\n",
    "a = np.array([\n",
    "    [\n",
    "        [1, 2, 3],\n",
    "        [4, 5, 6]\n",
    "    ],\n",
    "    [\n",
    "        [25, 30, 35],\n",
    "        [60, 70, 80]\n",
    "    ]\n",
    "])\n",
    "print(a)\n",
    "a[1][0][1]"
   ]
  },
  {
   "cell_type": "markdown",
   "id": "736b6b16",
   "metadata": {},
   "source": [
    "### Initializing array with `zeros()`, `full()`, `ones()`, `eye()`, etc."
   ]
  },
  {
   "cell_type": "code",
   "execution_count": 189,
   "id": "23f8a76e",
   "metadata": {},
   "outputs": [
    {
     "name": "stdout",
     "output_type": "stream",
     "text": [
      "[0. 0. 0.]\n"
     ]
    }
   ],
   "source": [
    "b = np.zeros(3)\n",
    "print(b)"
   ]
  },
  {
   "cell_type": "code",
   "execution_count": 190,
   "id": "5532494a",
   "metadata": {},
   "outputs": [
    {
     "name": "stdout",
     "output_type": "stream",
     "text": [
      "[[0 0 0]\n",
      " [0 0 0]]\n"
     ]
    }
   ],
   "source": [
    "b = np.zeros([2, 3], dtype=int)  # With specific size/dimension\n",
    "print(b)"
   ]
  },
  {
   "cell_type": "code",
   "execution_count": 191,
   "id": "6e58ba19",
   "metadata": {},
   "outputs": [
    {
     "name": "stdout",
     "output_type": "stream",
     "text": [
      "[[[10 10 10 10]\n",
      "  [10 10 10 10]\n",
      "  [10 10 10 10]]\n",
      "\n",
      " [[10 10 10 10]\n",
      "  [10 10 10 10]\n",
      "  [10 10 10 10]]]\n"
     ]
    }
   ],
   "source": [
    "b = np.full([2, 3, 4], 10)\n",
    "print(b)"
   ]
  },
  {
   "cell_type": "code",
   "execution_count": 192,
   "id": "8444dcbc",
   "metadata": {},
   "outputs": [
    {
     "name": "stdout",
     "output_type": "stream",
     "text": [
      "[1. 1. 1.]\n",
      "[[1. 1.]\n",
      " [1. 1.]\n",
      " [1. 1.]]\n"
     ]
    }
   ],
   "source": [
    "b = np.ones(3)\n",
    "print(b)\n",
    "\n",
    "b = np.ones([3, 2])\n",
    "print(b)"
   ]
  },
  {
   "cell_type": "code",
   "execution_count": 193,
   "id": "045d2bdb",
   "metadata": {},
   "outputs": [
    {
     "name": "stdout",
     "output_type": "stream",
     "text": [
      "[[1. 0. 0.]\n",
      " [0. 1. 0.]\n",
      " [0. 0. 1.]]\n"
     ]
    }
   ],
   "source": [
    "b = np.eye(3)  # Create a 3x3 identity matrix\n",
    "print(b)"
   ]
  },
  {
   "cell_type": "markdown",
   "id": "a94965ce",
   "metadata": {},
   "source": [
    "### Initializing arrays with ranges\n",
    "\n",
    "`arange()`, `linspace()`, `logspace()`, etc."
   ]
  },
  {
   "cell_type": "code",
   "execution_count": 194,
   "id": "02fa9b2e",
   "metadata": {},
   "outputs": [
    {
     "data": {
      "text/plain": [
       "array([0, 2, 4, 6, 8])"
      ]
     },
     "execution_count": 194,
     "metadata": {},
     "output_type": "execute_result"
    }
   ],
   "source": [
    "a = np.arange(0, 10, 2)  # start, stop (exclusive), step\n",
    "a"
   ]
  },
  {
   "cell_type": "code",
   "execution_count": 195,
   "id": "7b3ad1e4",
   "metadata": {},
   "outputs": [
    {
     "data": {
      "text/plain": [
       "array([0., 2., 4., 6., 8.])"
      ]
     },
     "execution_count": 195,
     "metadata": {},
     "output_type": "execute_result"
    }
   ],
   "source": [
    "a = np.arange(0, 10, 2, dtype=float)  # start, stop (exclusive), step\n",
    "a"
   ]
  },
  {
   "cell_type": "code",
   "execution_count": 196,
   "id": "7b41a338",
   "metadata": {},
   "outputs": [
    {
     "name": "stdout",
     "output_type": "stream",
     "text": [
      "[ 10.  20.  30.  40.  50.  60.  70.  80.  90. 100.]\n"
     ]
    }
   ],
   "source": [
    "# linspace(start, stop, num)\n",
    "# start: starting value of the array\n",
    "# stop: ending value of the array (inclusive)\n",
    "# num: no. of values in the array\n",
    "# Keeps num-2 equal checkpoints in range(start, stop+1)\n",
    "a = np.linspace(10, 100, 10)\n",
    "print(a)"
   ]
  },
  {
   "cell_type": "code",
   "execution_count": 197,
   "id": "d4f4935e",
   "metadata": {},
   "outputs": [
    {
     "name": "stdout",
     "output_type": "stream",
     "text": [
      "[1.e+010 1.e+020 1.e+030 1.e+040 1.e+050 1.e+060 1.e+070 1.e+080 1.e+090\n",
      " 1.e+100]\n",
      "[1.02400000e+03 1.04857600e+06 1.07374182e+09 1.09951163e+12\n",
      " 1.12589991e+15 1.15292150e+18 1.18059162e+21 1.20892582e+24\n",
      " 1.23794004e+27 1.26765060e+30]\n"
     ]
    }
   ],
   "source": [
    "a = np.logspace(10, 100, 10)  # gives log base 10 values of linspace(start, stop, num)\n",
    "print(a)\n",
    "\n",
    "a = np.logspace(10, 100, 10, base=2)  # gives log base 2 values of linspace(start, stop, num)\n",
    "print(a)"
   ]
  },
  {
   "cell_type": "markdown",
   "id": "2ed7f7db",
   "metadata": {},
   "source": [
    "# Array properties: `size`, `shape`, `dtype`, etc"
   ]
  },
  {
   "cell_type": "code",
   "execution_count": 198,
   "id": "59c8046a",
   "metadata": {},
   "outputs": [
    {
     "name": "stdout",
     "output_type": "stream",
     "text": [
      "5\n",
      "5\n"
     ]
    }
   ],
   "source": [
    "a = np.array([10, 15, 25, 67, 21])\n",
    "print(a.size)\n",
    "print(np.size(a))"
   ]
  },
  {
   "cell_type": "code",
   "execution_count": 199,
   "id": "6337ff37",
   "metadata": {},
   "outputs": [
    {
     "name": "stdout",
     "output_type": "stream",
     "text": [
      "(5,)\n",
      "(5,)\n"
     ]
    },
    {
     "data": {
      "text/plain": [
       "(2, 3)"
      ]
     },
     "execution_count": 199,
     "metadata": {},
     "output_type": "execute_result"
    }
   ],
   "source": [
    "print(a.shape)\n",
    "print(np.shape(a))\n",
    "\n",
    "a = np.zeros([2, 3])\n",
    "a.shape"
   ]
  },
  {
   "cell_type": "code",
   "execution_count": 200,
   "id": "e68f4275",
   "metadata": {},
   "outputs": [
    {
     "name": "stdout",
     "output_type": "stream",
     "text": [
      "float64\n"
     ]
    }
   ],
   "source": [
    "print(a.dtype)"
   ]
  },
  {
   "cell_type": "markdown",
   "id": "702c9e52",
   "metadata": {},
   "source": [
    "# Array operations\n",
    "slicing, indexing, `copy()`, `view()`, `sort()`, `reshape()`, `append()`, `insert()`, `delete()`, `concatenate()`, `stack()`, etc."
   ]
  },
  {
   "cell_type": "code",
   "execution_count": 201,
   "id": "77fc145b",
   "metadata": {},
   "outputs": [
    {
     "data": {
      "text/plain": [
       "array([[0., 0., 0.],\n",
       "       [0., 0., 0.]])"
      ]
     },
     "execution_count": 201,
     "metadata": {},
     "output_type": "execute_result"
    }
   ],
   "source": [
    "b = np.copy(a)  # deep copy\n",
    "b"
   ]
  },
  {
   "cell_type": "code",
   "execution_count": 202,
   "id": "8be4af21",
   "metadata": {},
   "outputs": [
    {
     "data": {
      "text/plain": [
       "array([[0., 0., 0.],\n",
       "       [0., 0., 0.]])"
      ]
     },
     "execution_count": 202,
     "metadata": {},
     "output_type": "execute_result"
    }
   ],
   "source": [
    "c = b.view()  # shallow copy\n",
    "c"
   ]
  },
  {
   "cell_type": "code",
   "execution_count": 203,
   "id": "15a4a40e",
   "metadata": {},
   "outputs": [
    {
     "data": {
      "text/plain": [
       "array([1, 2, 3, 4, 5])"
      ]
     },
     "execution_count": 203,
     "metadata": {},
     "output_type": "execute_result"
    }
   ],
   "source": [
    "a = np.array([5, 4, 3, 2, 1])\n",
    "# np.sort(a)\n",
    "a.sort()\n",
    "a"
   ]
  },
  {
   "cell_type": "code",
   "execution_count": 204,
   "id": "fa1837c3",
   "metadata": {},
   "outputs": [
    {
     "data": {
      "text/plain": [
       "array([[ 1,  3,  5, 20, 40],\n",
       "       [-2,  3,  4, 10, 30]])"
      ]
     },
     "execution_count": 204,
     "metadata": {},
     "output_type": "execute_result"
    }
   ],
   "source": [
    "a = np.array([[5, 40, 3, 20, 1], [-2, 4, 30, 10, 3]])\n",
    "a.sort()\n",
    "a"
   ]
  },
  {
   "cell_type": "code",
   "execution_count": 205,
   "id": "60b21b95",
   "metadata": {},
   "outputs": [
    {
     "data": {
      "text/plain": [
       "array([[-2,  4,  3, 10,  1],\n",
       "       [ 5, 40, 30, 20,  3]])"
      ]
     },
     "execution_count": 205,
     "metadata": {},
     "output_type": "execute_result"
    }
   ],
   "source": [
    "a = np.array([[5, 40, 3, 20, 1], [-2, 4, 30, 10, 3]])\n",
    "a.sort(axis=0)  # axis = 0 for column wise sorting and 1 for row wise sorting\n",
    "a"
   ]
  },
  {
   "cell_type": "code",
   "execution_count": 206,
   "id": "f67f7d89",
   "metadata": {},
   "outputs": [
    {
     "data": {
      "text/plain": [
       "array([[ 10,  20,  30,  40,  50],\n",
       "       [ 60,  70,  80,  90, 100]])"
      ]
     },
     "execution_count": 206,
     "metadata": {},
     "output_type": "execute_result"
    }
   ],
   "source": [
    "a = np.arange(10, 101, 10)\n",
    "a.reshape(2, 5)  # 2 * 5 must be size of array (10)"
   ]
  },
  {
   "cell_type": "code",
   "execution_count": 212,
   "id": "385e568d",
   "metadata": {},
   "outputs": [
    {
     "data": {
      "text/plain": [
       "array([1, 2, 3, 4, 5, 6])"
      ]
     },
     "execution_count": 212,
     "metadata": {},
     "output_type": "execute_result"
    }
   ],
   "source": [
    "a = np.array([1, 2])\n",
    "b = np.array([[3, 4], [5, 6]])\n",
    "np.append(a, b)  # Flattens a bigger dimension array to add"
   ]
  },
  {
   "cell_type": "code",
   "execution_count": 208,
   "id": "45b17196",
   "metadata": {},
   "outputs": [
    {
     "data": {
      "text/plain": [
       "array([1, 2, 3, 4])"
      ]
     },
     "execution_count": 208,
     "metadata": {},
     "output_type": "execute_result"
    }
   ],
   "source": [
    "np.insert(a, 2, [3, 4])  # (arr, index, value/values)"
   ]
  },
  {
   "cell_type": "code",
   "execution_count": 209,
   "id": "c9cc93c7",
   "metadata": {},
   "outputs": [
    {
     "data": {
      "text/plain": [
       "array([1])"
      ]
     },
     "execution_count": 209,
     "metadata": {},
     "output_type": "execute_result"
    }
   ],
   "source": [
    "np.delete(a, 1)  # (arr, index)"
   ]
  },
  {
   "cell_type": "code",
   "execution_count": null,
   "id": "5ad3a1fc",
   "metadata": {},
   "outputs": [
    {
     "data": {
      "text/plain": [
       "array([1, 2, 2, 3])"
      ]
     },
     "execution_count": 210,
     "metadata": {},
     "output_type": "execute_result"
    }
   ],
   "source": [
    "b = np.array([2, 3])\n",
    "np.concatenate((a, b))  # It cannot flatten a bigger dimension array to add. So, both the arrays must be of same shape"
   ]
  },
  {
   "cell_type": "code",
   "execution_count": null,
   "id": "c450c02f",
   "metadata": {},
   "outputs": [
    {
     "data": {
      "text/plain": [
       "array([[1, 2, 3, 4],\n",
       "       [7, 8, 5, 6]])"
      ]
     },
     "execution_count": 211,
     "metadata": {},
     "output_type": "execute_result"
    }
   ],
   "source": [
    "a = np.array([[1, 2], [7, 8]])\n",
    "b = np.array([[3, 4],[5, 6]])\n",
    "np.concatenate((a, b), axis=1)  # Column wise concatenation of 2-D arrays"
   ]
  },
  {
   "cell_type": "markdown",
   "id": "16c06bde",
   "metadata": {},
   "source": [
    "# ***For remembering axis values***\n",
    "\n",
    "* `axis = 0` for column-wise (horizontal-wise)\n",
    "* `axis = 1` for row-wise (vertical-wise)"
   ]
  }
 ],
 "metadata": {
  "kernelspec": {
   "display_name": "Python 3",
   "language": "python",
   "name": "python3"
  },
  "language_info": {
   "codemirror_mode": {
    "name": "ipython",
    "version": 3
   },
   "file_extension": ".py",
   "mimetype": "text/x-python",
   "name": "python",
   "nbconvert_exporter": "python",
   "pygments_lexer": "ipython3",
   "version": "3.8.8"
  }
 },
 "nbformat": 4,
 "nbformat_minor": 5
}
