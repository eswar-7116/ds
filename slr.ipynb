{
 "cells": [
  {
   "cell_type": "code",
   "execution_count": 11,
   "id": "1ceb073a-4315-47f7-ba1e-5f858958fe55",
   "metadata": {},
   "outputs": [],
   "source": [
    "import pandas as pd\n",
    "import numpy as np\n",
    "\n",
    "from sklearn.linear_model import LinearRegression\n",
    "from sklearn.model_selection import train_test_split\n",
    "from sklearn.metrics import *"
   ]
  },
  {
   "cell_type": "code",
   "execution_count": 17,
   "id": "4e546a68-7ce5-4249-b1f3-396cb258add8",
   "metadata": {},
   "outputs": [],
   "source": [
    "df = pd.DataFrame(pd.read_csv('./Salary_Data.csv'))\n",
    "x = df[['YearsExperience']]\n",
    "y = df[['Salary']"
   ]
  },
  {
   "cell_type": "code",
   "execution_count": 18,
   "id": "8a26a6a1-357d-48ab-adbe-c030e42ad079",
   "metadata": {},
   "outputs": [],
   "source": [
    "x_train, x_test, y_train, y_test = train_test_split(x, y, test_size=0.2)"
   ]
  },
  {
   "cell_type": "code",
   "execution_count": 19,
   "id": "6e446e47-f10f-4fe2-beda-6937374f7a6f",
   "metadata": {},
   "outputs": [
    {
     "name": "stdout",
     "output_type": "stream",
     "text": [
      "Intercept: 25291.420255005716\n",
      "Slope: 9452.683216490404\n"
     ]
    }
   ],
   "source": [
    "# Training\n",
    "model = LinearRegression()\n",
    "model.fit(x_train, y_train)\n",
    "print('Intercept:', model.intercept_)\n",
    "print('Slope:', model.coef_[0])"
   ]
  },
  {
   "cell_type": "code",
   "execution_count": 20,
   "id": "848e9c6f-f790-4df5-bdd3-5ce32a788ebc",
   "metadata": {},
   "outputs": [
    {
     "name": "stdout",
     "output_type": "stream",
     "text": [
      "R^2 score: 0.9674512836727183\n",
      "MSE: 28988688.140309367\n"
     ]
    }
   ],
   "source": [
    "y_pred = model.predict(x_test)\n",
    "print(\"R^2 score:\", r2_score(y_test, y_pred))\n",
    "print(\"MSE:\", mean_squared_error(y_test, y_pred))"
   ]
  }
 ],
 "metadata": {
  "kernelspec": {
   "display_name": "Python 3 (ipykernel)",
   "language": "python",
   "name": "python3"
  },
  "language_info": {
   "codemirror_mode": {
    "name": "ipython",
    "version": 3
   },
   "file_extension": ".py",
   "mimetype": "text/x-python",
   "name": "python",
   "nbconvert_exporter": "python",
   "pygments_lexer": "ipython3",
   "version": "3.13.5"
  }
 },
 "nbformat": 4,
 "nbformat_minor": 5
}
