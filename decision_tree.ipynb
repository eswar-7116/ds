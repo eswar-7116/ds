{
 "cells": [
  {
   "cell_type": "code",
   "execution_count": 1,
   "id": "5b7bbc5f-c3d1-415d-b357-3db5601f7b87",
   "metadata": {},
   "outputs": [],
   "source": [
    "import pandas as pd\n",
    "import matplotlib.pyplot as plt\n",
    "\n",
    "from sklearn.datasets import load_iris\n",
    "from sklearn.model_selection import train_test_split\n",
    "from sklearn.tree import DecisionTreeClassifier, plot_tree\n",
    "from sklearn.metrics import *"
   ]
  },
  {
   "cell_type": "code",
   "execution_count": null,
   "id": "4c820f3a-2bc7-420c-ab23-9fd3144f9fee",
   "metadata": {},
   "outputs": [],
   "source": [
    "df = load_iris()\n",
    "x, y = df.data, df.target\n",
    "x_train, x_test, y_train, y_test = train_test_split(x, y, )"
   ]
  }
 ],
 "metadata": {
  "kernelspec": {
   "display_name": "Python 3 (ipykernel)",
   "language": "python",
   "name": "python3"
  },
  "language_info": {
   "codemirror_mode": {
    "name": "ipython",
    "version": 3
   },
   "file_extension": ".py",
   "mimetype": "text/x-python",
   "name": "python",
   "nbconvert_exporter": "python",
   "pygments_lexer": "ipython3",
   "version": "3.13.5"
  }
 },
 "nbformat": 4,
 "nbformat_minor": 5
}
